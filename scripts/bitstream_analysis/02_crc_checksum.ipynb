{
 "cells": [
  {
   "cell_type": "code",
   "execution_count": 1,
   "metadata": {},
   "outputs": [],
   "source": [
    "\"\"\"Calculate CRC checksum on the JIC bitstream\n",
    "\n",
    "Altera bitstream uses CRC16 Modbus, as mentioned in P. Swierczynski:\n",
    "\"Security Analysis of the Bitstream Encryption Scheme of Altera FPGAs\"\n",
    "\n",
    "Requires crccheck package (`pip install crccheck`)\n",
    "\"\"\"\n",
    "\n",
    "import os\n",
    "import sys\n",
    "\n",
    "import numpy as np\n",
    "from crccheck.crc import Crc16Modbus\n",
    "\n",
    "sys.path.append(\"../extract_pin_addr\")\n",
    "from JicBitstream import JicBitstream, JicBitstreamZip"
   ]
  },
  {
   "cell_type": "code",
   "execution_count": 2,
   "metadata": {},
   "outputs": [],
   "source": [
    "jic = JicBitstream(\"../../bitstreams/ref/factory.jic\").jic_uint8"
   ]
  },
  {
   "cell_type": "code",
   "execution_count": 3,
   "metadata": {},
   "outputs": [
    {
     "name": "stdout",
     "output_type": "stream",
     "text": [
      "79158 ['0x9d', '0x33'] [ 0  0  0 ... 64  0  0]\n",
      "80346 ['0x7c', '0xec'] [0 0 0 ... 0 0 0]\n",
      "81534 ['0xdc', '0xf4'] [0 0 0 ... 3 0 0]\n",
      "82722 ['0x64', '0xc1'] [0 0 0 ... 0 0 0]\n",
      "83910 ['0x36', '0x3a'] [0 0 0 ... 0 0 0]\n",
      "85098 ['0x8f', '0x44'] [0 0 0 ... 0 0 0]\n",
      "86286 ['0xc5', '0xb4'] [0 0 0 ... 0 0 0]\n",
      "87474 ['0x93', '0xd'] [0 0 0 ... 0 0 0]\n",
      "88662 ['0xb4', '0x83'] [0 0 0 ... 0 0 0]\n",
      "89850 ['0x70', '0x3f'] [ 0  0  0 ... 64  0  0]\n",
      "91038 ['0x71', '0x19'] [0 0 0 ... 0 0 0]\n",
      "92226 ['0x77', '0xa4'] [0 0 0 ... 3 0 0]\n",
      "93414 ['0x13', '0x35'] [0 0 0 ... 0 0 0]\n",
      "94602 ['0xd0', '0x3b'] [ 0  0  0 ... 32  0  0]\n",
      "95790 ['0xbb', '0x7e'] [ 0  0  0 ... 32  0  0]\n",
      "[1188 1188 1188 1188 1188 1188 1188 1188 1188 1188 1188 1188 1188 1188]\n"
     ]
    }
   ],
   "source": [
    "BLK_SIZE = 1188\n",
    "CRC_SIZE = 2\n",
    "\n",
    "# manually identified checksum locations\n",
    "CHKSUM_LOCS = [\n",
    "    0x13536,\n",
    "    0x139DA,\n",
    "    0x13E7E,\n",
    "    0x14322,\n",
    "    0x147C6,\n",
    "]\n",
    "\n",
    "# add more blocks at the beggining\n",
    "for _ in range(0):\n",
    "    CHKSUM_LOCS.insert(0, CHKSUM_LOCS[0] - BLK_SIZE)\n",
    "\n",
    "# add more blocks at the end\n",
    "for _ in range(10):\n",
    "    CHKSUM_LOCS.append(CHKSUM_LOCS[-1] + BLK_SIZE)\n",
    "\n",
    "for chksum_loc in CHKSUM_LOCS:\n",
    "    print(\n",
    "        chksum_loc,\n",
    "        [hex(xi) for xi in jic[chksum_loc : chksum_loc + 2]],\n",
    "        jic[chksum_loc + CRC_SIZE : chksum_loc + BLK_SIZE],\n",
    "    )\n",
    "\n",
    "print(np.diff(CHKSUM_LOCS))"
   ]
  },
  {
   "cell_type": "code",
   "execution_count": 4,
   "metadata": {},
   "outputs": [
    {
     "name": "stdout",
     "output_type": "stream",
     "text": [
      "Calculating CRC for block 0x013094, checksum = 0000\n",
      "Calculating CRC for block 0x013538, checksum = 0000\n",
      "Calculating CRC for block 0x0139dc, checksum = 0000\n",
      "Calculating CRC for block 0x013e80, checksum = 0000\n",
      "Calculating CRC for block 0x014324, checksum = 0000\n",
      "Calculating CRC for block 0x0147c8, checksum = 0000\n",
      "Calculating CRC for block 0x014c6c, checksum = 0000\n",
      "Calculating CRC for block 0x015110, checksum = 0000\n",
      "Calculating CRC for block 0x0155b4, checksum = 0000\n",
      "Calculating CRC for block 0x015a58, checksum = 0000\n",
      "Calculating CRC for block 0x015efc, checksum = 0000\n",
      "Calculating CRC for block 0x0163a0, checksum = 0000\n",
      "Calculating CRC for block 0x016844, checksum = 0000\n",
      "Calculating CRC for block 0x016ce8, checksum = 0000\n",
      "Calculating CRC for block 0x01718c, checksum = 0000\n"
     ]
    }
   ],
   "source": [
    "BLOCK_LOCS = np.array(CHKSUM_LOCS) - BLK_SIZE + CRC_SIZE\n",
    "\n",
    "for block_loc in BLOCK_LOCS:\n",
    "    print(f\"Calculating CRC for block 0x{block_loc:06x}\", end=\"\")\n",
    "    data = jic[block_loc : block_loc + BLK_SIZE]\n",
    "    checksum = Crc16Modbus.calc(data)\n",
    "    print(f\", checksum = {checksum:04x}\")\n",
    "    assert checksum == 0"
   ]
  }
 ],
 "metadata": {
  "kernelspec": {
   "display_name": "Python 3",
   "language": "python",
   "name": "python3"
  },
  "language_info": {
   "codemirror_mode": {
    "name": "ipython",
    "version": 3
   },
   "file_extension": ".py",
   "mimetype": "text/x-python",
   "name": "python",
   "nbconvert_exporter": "python",
   "pygments_lexer": "ipython3",
   "version": "3.8.6"
  }
 },
 "nbformat": 4,
 "nbformat_minor": 4
}
